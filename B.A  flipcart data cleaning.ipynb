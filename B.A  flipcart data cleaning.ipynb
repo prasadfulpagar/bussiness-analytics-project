{
 "cells": [
  {
   "cell_type": "code",
   "execution_count": 1,
   "id": "43b51abd",
   "metadata": {},
   "outputs": [],
   "source": [
    "import pandas as pd\n",
    "import numpy as np\n",
    "import seaborn as sns\n",
    "import matplotlib.pyplot as plt"
   ]
  },
  {
   "cell_type": "code",
   "execution_count": 2,
   "id": "7c1955eb",
   "metadata": {},
   "outputs": [],
   "source": [
    "df=pd.read_csv(r\"C:\\Users\\PRASAD\\Downloads\\flipkart_com-ecommerce_sample.csv\\flipkart_com-ecommerce_sample.csv\")"
   ]
  },
  {
   "cell_type": "code",
   "execution_count": 3,
   "id": "11f1bbf6",
   "metadata": {},
   "outputs": [
    {
     "data": {
      "text/html": [
       "<div>\n",
       "<style scoped>\n",
       "    .dataframe tbody tr th:only-of-type {\n",
       "        vertical-align: middle;\n",
       "    }\n",
       "\n",
       "    .dataframe tbody tr th {\n",
       "        vertical-align: top;\n",
       "    }\n",
       "\n",
       "    .dataframe thead th {\n",
       "        text-align: right;\n",
       "    }\n",
       "</style>\n",
       "<table border=\"1\" class=\"dataframe\">\n",
       "  <thead>\n",
       "    <tr style=\"text-align: right;\">\n",
       "      <th></th>\n",
       "      <th>uniq_id</th>\n",
       "      <th>crawl_timestamp</th>\n",
       "      <th>product_url</th>\n",
       "      <th>product_name</th>\n",
       "      <th>product_category_tree</th>\n",
       "      <th>pid</th>\n",
       "      <th>retail_price</th>\n",
       "      <th>discounted_price</th>\n",
       "      <th>image</th>\n",
       "      <th>is_FK_Advantage_product</th>\n",
       "      <th>description</th>\n",
       "      <th>product_rating</th>\n",
       "      <th>overall_rating</th>\n",
       "      <th>brand</th>\n",
       "      <th>product_specifications</th>\n",
       "    </tr>\n",
       "  </thead>\n",
       "  <tbody>\n",
       "    <tr>\n",
       "      <th>0</th>\n",
       "      <td>c2d766ca982eca8304150849735ffef9</td>\n",
       "      <td>2016-03-25 22:59:23 +0000</td>\n",
       "      <td>http://www.flipkart.com/alisha-solid-women-s-c...</td>\n",
       "      <td>Alisha Solid Women's Cycling Shorts</td>\n",
       "      <td>[\"Clothing &gt;&gt; Women's Clothing &gt;&gt; Lingerie, Sl...</td>\n",
       "      <td>SRTEH2FF9KEDEFGF</td>\n",
       "      <td>999.0</td>\n",
       "      <td>379.0</td>\n",
       "      <td>[\"http://img5a.flixcart.com/image/short/u/4/a/...</td>\n",
       "      <td>False</td>\n",
       "      <td>Key Features of Alisha Solid Women's Cycling S...</td>\n",
       "      <td>No rating available</td>\n",
       "      <td>No rating available</td>\n",
       "      <td>Alisha</td>\n",
       "      <td>{\"product_specification\"=&gt;[{\"key\"=&gt;\"Number of ...</td>\n",
       "    </tr>\n",
       "    <tr>\n",
       "      <th>1</th>\n",
       "      <td>7f7036a6d550aaa89d34c77bd39a5e48</td>\n",
       "      <td>2016-03-25 22:59:23 +0000</td>\n",
       "      <td>http://www.flipkart.com/fabhomedecor-fabric-do...</td>\n",
       "      <td>FabHomeDecor Fabric Double Sofa Bed</td>\n",
       "      <td>[\"Furniture &gt;&gt; Living Room Furniture &gt;&gt; Sofa B...</td>\n",
       "      <td>SBEEH3QGU7MFYJFY</td>\n",
       "      <td>32157.0</td>\n",
       "      <td>22646.0</td>\n",
       "      <td>[\"http://img6a.flixcart.com/image/sofa-bed/j/f...</td>\n",
       "      <td>False</td>\n",
       "      <td>FabHomeDecor Fabric Double Sofa Bed (Finish Co...</td>\n",
       "      <td>No rating available</td>\n",
       "      <td>No rating available</td>\n",
       "      <td>FabHomeDecor</td>\n",
       "      <td>{\"product_specification\"=&gt;[{\"key\"=&gt;\"Installati...</td>\n",
       "    </tr>\n",
       "    <tr>\n",
       "      <th>2</th>\n",
       "      <td>f449ec65dcbc041b6ae5e6a32717d01b</td>\n",
       "      <td>2016-03-25 22:59:23 +0000</td>\n",
       "      <td>http://www.flipkart.com/aw-bellies/p/itmeh4grg...</td>\n",
       "      <td>AW Bellies</td>\n",
       "      <td>[\"Footwear &gt;&gt; Women's Footwear &gt;&gt; Ballerinas &gt;...</td>\n",
       "      <td>SHOEH4GRSUBJGZXE</td>\n",
       "      <td>999.0</td>\n",
       "      <td>499.0</td>\n",
       "      <td>[\"http://img5a.flixcart.com/image/shoe/7/z/z/r...</td>\n",
       "      <td>False</td>\n",
       "      <td>Key Features of AW Bellies Sandals Wedges Heel...</td>\n",
       "      <td>No rating available</td>\n",
       "      <td>No rating available</td>\n",
       "      <td>AW</td>\n",
       "      <td>{\"product_specification\"=&gt;[{\"key\"=&gt;\"Ideal For\"...</td>\n",
       "    </tr>\n",
       "    <tr>\n",
       "      <th>3</th>\n",
       "      <td>0973b37acd0c664e3de26e97e5571454</td>\n",
       "      <td>2016-03-25 22:59:23 +0000</td>\n",
       "      <td>http://www.flipkart.com/alisha-solid-women-s-c...</td>\n",
       "      <td>Alisha Solid Women's Cycling Shorts</td>\n",
       "      <td>[\"Clothing &gt;&gt; Women's Clothing &gt;&gt; Lingerie, Sl...</td>\n",
       "      <td>SRTEH2F6HUZMQ6SJ</td>\n",
       "      <td>699.0</td>\n",
       "      <td>267.0</td>\n",
       "      <td>[\"http://img5a.flixcart.com/image/short/6/2/h/...</td>\n",
       "      <td>False</td>\n",
       "      <td>Key Features of Alisha Solid Women's Cycling S...</td>\n",
       "      <td>No rating available</td>\n",
       "      <td>No rating available</td>\n",
       "      <td>Alisha</td>\n",
       "      <td>{\"product_specification\"=&gt;[{\"key\"=&gt;\"Number of ...</td>\n",
       "    </tr>\n",
       "    <tr>\n",
       "      <th>4</th>\n",
       "      <td>bc940ea42ee6bef5ac7cea3fb5cfbee7</td>\n",
       "      <td>2016-03-25 22:59:23 +0000</td>\n",
       "      <td>http://www.flipkart.com/sicons-all-purpose-arn...</td>\n",
       "      <td>Sicons All Purpose Arnica Dog Shampoo</td>\n",
       "      <td>[\"Pet Supplies &gt;&gt; Grooming &gt;&gt; Skin &amp; Coat Care...</td>\n",
       "      <td>PSOEH3ZYDMSYARJ5</td>\n",
       "      <td>220.0</td>\n",
       "      <td>210.0</td>\n",
       "      <td>[\"http://img5a.flixcart.com/image/pet-shampoo/...</td>\n",
       "      <td>False</td>\n",
       "      <td>Specifications of Sicons All Purpose Arnica Do...</td>\n",
       "      <td>No rating available</td>\n",
       "      <td>No rating available</td>\n",
       "      <td>Sicons</td>\n",
       "      <td>{\"product_specification\"=&gt;[{\"key\"=&gt;\"Pet Type\",...</td>\n",
       "    </tr>\n",
       "    <tr>\n",
       "      <th>...</th>\n",
       "      <td>...</td>\n",
       "      <td>...</td>\n",
       "      <td>...</td>\n",
       "      <td>...</td>\n",
       "      <td>...</td>\n",
       "      <td>...</td>\n",
       "      <td>...</td>\n",
       "      <td>...</td>\n",
       "      <td>...</td>\n",
       "      <td>...</td>\n",
       "      <td>...</td>\n",
       "      <td>...</td>\n",
       "      <td>...</td>\n",
       "      <td>...</td>\n",
       "      <td>...</td>\n",
       "    </tr>\n",
       "    <tr>\n",
       "      <th>19995</th>\n",
       "      <td>7179d2f6c4ad50a17d014ca1d2815156</td>\n",
       "      <td>2015-12-01 10:15:43 +0000</td>\n",
       "      <td>http://www.flipkart.com/walldesign-small-vinyl...</td>\n",
       "      <td>WallDesign Small Vinyl Sticker</td>\n",
       "      <td>[\"Baby Care &gt;&gt; Baby &amp; Kids Gifts &gt;&gt; Stickers &gt;...</td>\n",
       "      <td>STIE7KFJAKSTDY9G</td>\n",
       "      <td>1500.0</td>\n",
       "      <td>730.0</td>\n",
       "      <td>[\"http://img6a.flixcart.com/image/wall-decorat...</td>\n",
       "      <td>False</td>\n",
       "      <td>Buy WallDesign Small Vinyl Sticker for Rs.730 ...</td>\n",
       "      <td>No rating available</td>\n",
       "      <td>No rating available</td>\n",
       "      <td>WallDesign</td>\n",
       "      <td>{\"product_specification\"=&gt;[{\"key\"=&gt;\"Number of ...</td>\n",
       "    </tr>\n",
       "    <tr>\n",
       "      <th>19996</th>\n",
       "      <td>71ac419198359d37b8fe5e3fffdfee09</td>\n",
       "      <td>2015-12-01 10:15:43 +0000</td>\n",
       "      <td>http://www.flipkart.com/wallmantra-large-vinyl...</td>\n",
       "      <td>Wallmantra Large Vinyl Stickers Sticker</td>\n",
       "      <td>[\"Baby Care &gt;&gt; Baby &amp; Kids Gifts &gt;&gt; Stickers &gt;...</td>\n",
       "      <td>STIE9F5URNQGJCGH</td>\n",
       "      <td>1429.0</td>\n",
       "      <td>1143.0</td>\n",
       "      <td>[\"http://img6a.flixcart.com/image/sticker/z/g/...</td>\n",
       "      <td>False</td>\n",
       "      <td>Buy Wallmantra Large Vinyl Stickers Sticker fo...</td>\n",
       "      <td>No rating available</td>\n",
       "      <td>No rating available</td>\n",
       "      <td>Wallmantra</td>\n",
       "      <td>{\"product_specification\"=&gt;[{\"key\"=&gt;\"Number of ...</td>\n",
       "    </tr>\n",
       "    <tr>\n",
       "      <th>19997</th>\n",
       "      <td>93e9d343837400ce0d7980874ece471c</td>\n",
       "      <td>2015-12-01 10:15:43 +0000</td>\n",
       "      <td>http://www.flipkart.com/elite-collection-mediu...</td>\n",
       "      <td>Elite Collection Medium Acrylic Sticker</td>\n",
       "      <td>[\"Baby Care &gt;&gt; Baby &amp; Kids Gifts &gt;&gt; Stickers &gt;...</td>\n",
       "      <td>STIE7VAYDKQZEBSD</td>\n",
       "      <td>1299.0</td>\n",
       "      <td>999.0</td>\n",
       "      <td>[\"http://img5a.flixcart.com/image/sticker/b/s/...</td>\n",
       "      <td>False</td>\n",
       "      <td>Buy Elite Collection Medium Acrylic Sticker fo...</td>\n",
       "      <td>No rating available</td>\n",
       "      <td>No rating available</td>\n",
       "      <td>Elite Collection</td>\n",
       "      <td>{\"product_specification\"=&gt;[{\"key\"=&gt;\"Number of ...</td>\n",
       "    </tr>\n",
       "    <tr>\n",
       "      <th>19998</th>\n",
       "      <td>669e79b8fa5d9ae020841c0c97d5e935</td>\n",
       "      <td>2015-12-01 10:15:43 +0000</td>\n",
       "      <td>http://www.flipkart.com/elite-collection-mediu...</td>\n",
       "      <td>Elite Collection Medium Acrylic Sticker</td>\n",
       "      <td>[\"Baby Care &gt;&gt; Baby &amp; Kids Gifts &gt;&gt; Stickers &gt;...</td>\n",
       "      <td>STIE8YSVEPPCZ42Y</td>\n",
       "      <td>1499.0</td>\n",
       "      <td>1199.0</td>\n",
       "      <td>[\"http://img5a.flixcart.com/image/sticker/4/2/...</td>\n",
       "      <td>False</td>\n",
       "      <td>Buy Elite Collection Medium Acrylic Sticker fo...</td>\n",
       "      <td>No rating available</td>\n",
       "      <td>No rating available</td>\n",
       "      <td>Elite Collection</td>\n",
       "      <td>{\"product_specification\"=&gt;[{\"key\"=&gt;\"Number of ...</td>\n",
       "    </tr>\n",
       "    <tr>\n",
       "      <th>19999</th>\n",
       "      <td>cb4fa87a874f715fff567f7b7b3be79c</td>\n",
       "      <td>2015-12-01 10:15:43 +0000</td>\n",
       "      <td>http://www.flipkart.com/elite-collection-mediu...</td>\n",
       "      <td>Elite Collection Medium Acrylic Sticker</td>\n",
       "      <td>[\"Baby Care &gt;&gt; Baby &amp; Kids Gifts &gt;&gt; Stickers &gt;...</td>\n",
       "      <td>STIE88KN9ZDSGZKY</td>\n",
       "      <td>1499.0</td>\n",
       "      <td>999.0</td>\n",
       "      <td>[\"http://img6a.flixcart.com/image/sticker/z/k/...</td>\n",
       "      <td>False</td>\n",
       "      <td>Buy Elite Collection Medium Acrylic Sticker fo...</td>\n",
       "      <td>No rating available</td>\n",
       "      <td>No rating available</td>\n",
       "      <td>Elite Collection</td>\n",
       "      <td>{\"product_specification\"=&gt;[{\"key\"=&gt;\"Number of ...</td>\n",
       "    </tr>\n",
       "  </tbody>\n",
       "</table>\n",
       "<p>20000 rows × 15 columns</p>\n",
       "</div>"
      ],
      "text/plain": [
       "                                uniq_id            crawl_timestamp  \\\n",
       "0      c2d766ca982eca8304150849735ffef9  2016-03-25 22:59:23 +0000   \n",
       "1      7f7036a6d550aaa89d34c77bd39a5e48  2016-03-25 22:59:23 +0000   \n",
       "2      f449ec65dcbc041b6ae5e6a32717d01b  2016-03-25 22:59:23 +0000   \n",
       "3      0973b37acd0c664e3de26e97e5571454  2016-03-25 22:59:23 +0000   \n",
       "4      bc940ea42ee6bef5ac7cea3fb5cfbee7  2016-03-25 22:59:23 +0000   \n",
       "...                                 ...                        ...   \n",
       "19995  7179d2f6c4ad50a17d014ca1d2815156  2015-12-01 10:15:43 +0000   \n",
       "19996  71ac419198359d37b8fe5e3fffdfee09  2015-12-01 10:15:43 +0000   \n",
       "19997  93e9d343837400ce0d7980874ece471c  2015-12-01 10:15:43 +0000   \n",
       "19998  669e79b8fa5d9ae020841c0c97d5e935  2015-12-01 10:15:43 +0000   \n",
       "19999  cb4fa87a874f715fff567f7b7b3be79c  2015-12-01 10:15:43 +0000   \n",
       "\n",
       "                                             product_url  \\\n",
       "0      http://www.flipkart.com/alisha-solid-women-s-c...   \n",
       "1      http://www.flipkart.com/fabhomedecor-fabric-do...   \n",
       "2      http://www.flipkart.com/aw-bellies/p/itmeh4grg...   \n",
       "3      http://www.flipkart.com/alisha-solid-women-s-c...   \n",
       "4      http://www.flipkart.com/sicons-all-purpose-arn...   \n",
       "...                                                  ...   \n",
       "19995  http://www.flipkart.com/walldesign-small-vinyl...   \n",
       "19996  http://www.flipkart.com/wallmantra-large-vinyl...   \n",
       "19997  http://www.flipkart.com/elite-collection-mediu...   \n",
       "19998  http://www.flipkart.com/elite-collection-mediu...   \n",
       "19999  http://www.flipkart.com/elite-collection-mediu...   \n",
       "\n",
       "                                  product_name  \\\n",
       "0          Alisha Solid Women's Cycling Shorts   \n",
       "1          FabHomeDecor Fabric Double Sofa Bed   \n",
       "2                                   AW Bellies   \n",
       "3          Alisha Solid Women's Cycling Shorts   \n",
       "4        Sicons All Purpose Arnica Dog Shampoo   \n",
       "...                                        ...   \n",
       "19995           WallDesign Small Vinyl Sticker   \n",
       "19996  Wallmantra Large Vinyl Stickers Sticker   \n",
       "19997  Elite Collection Medium Acrylic Sticker   \n",
       "19998  Elite Collection Medium Acrylic Sticker   \n",
       "19999  Elite Collection Medium Acrylic Sticker   \n",
       "\n",
       "                                   product_category_tree               pid  \\\n",
       "0      [\"Clothing >> Women's Clothing >> Lingerie, Sl...  SRTEH2FF9KEDEFGF   \n",
       "1      [\"Furniture >> Living Room Furniture >> Sofa B...  SBEEH3QGU7MFYJFY   \n",
       "2      [\"Footwear >> Women's Footwear >> Ballerinas >...  SHOEH4GRSUBJGZXE   \n",
       "3      [\"Clothing >> Women's Clothing >> Lingerie, Sl...  SRTEH2F6HUZMQ6SJ   \n",
       "4      [\"Pet Supplies >> Grooming >> Skin & Coat Care...  PSOEH3ZYDMSYARJ5   \n",
       "...                                                  ...               ...   \n",
       "19995  [\"Baby Care >> Baby & Kids Gifts >> Stickers >...  STIE7KFJAKSTDY9G   \n",
       "19996  [\"Baby Care >> Baby & Kids Gifts >> Stickers >...  STIE9F5URNQGJCGH   \n",
       "19997  [\"Baby Care >> Baby & Kids Gifts >> Stickers >...  STIE7VAYDKQZEBSD   \n",
       "19998  [\"Baby Care >> Baby & Kids Gifts >> Stickers >...  STIE8YSVEPPCZ42Y   \n",
       "19999  [\"Baby Care >> Baby & Kids Gifts >> Stickers >...  STIE88KN9ZDSGZKY   \n",
       "\n",
       "       retail_price  discounted_price  \\\n",
       "0             999.0             379.0   \n",
       "1           32157.0           22646.0   \n",
       "2             999.0             499.0   \n",
       "3             699.0             267.0   \n",
       "4             220.0             210.0   \n",
       "...             ...               ...   \n",
       "19995        1500.0             730.0   \n",
       "19996        1429.0            1143.0   \n",
       "19997        1299.0             999.0   \n",
       "19998        1499.0            1199.0   \n",
       "19999        1499.0             999.0   \n",
       "\n",
       "                                                   image  \\\n",
       "0      [\"http://img5a.flixcart.com/image/short/u/4/a/...   \n",
       "1      [\"http://img6a.flixcart.com/image/sofa-bed/j/f...   \n",
       "2      [\"http://img5a.flixcart.com/image/shoe/7/z/z/r...   \n",
       "3      [\"http://img5a.flixcart.com/image/short/6/2/h/...   \n",
       "4      [\"http://img5a.flixcart.com/image/pet-shampoo/...   \n",
       "...                                                  ...   \n",
       "19995  [\"http://img6a.flixcart.com/image/wall-decorat...   \n",
       "19996  [\"http://img6a.flixcart.com/image/sticker/z/g/...   \n",
       "19997  [\"http://img5a.flixcart.com/image/sticker/b/s/...   \n",
       "19998  [\"http://img5a.flixcart.com/image/sticker/4/2/...   \n",
       "19999  [\"http://img6a.flixcart.com/image/sticker/z/k/...   \n",
       "\n",
       "       is_FK_Advantage_product  \\\n",
       "0                        False   \n",
       "1                        False   \n",
       "2                        False   \n",
       "3                        False   \n",
       "4                        False   \n",
       "...                        ...   \n",
       "19995                    False   \n",
       "19996                    False   \n",
       "19997                    False   \n",
       "19998                    False   \n",
       "19999                    False   \n",
       "\n",
       "                                             description       product_rating  \\\n",
       "0      Key Features of Alisha Solid Women's Cycling S...  No rating available   \n",
       "1      FabHomeDecor Fabric Double Sofa Bed (Finish Co...  No rating available   \n",
       "2      Key Features of AW Bellies Sandals Wedges Heel...  No rating available   \n",
       "3      Key Features of Alisha Solid Women's Cycling S...  No rating available   \n",
       "4      Specifications of Sicons All Purpose Arnica Do...  No rating available   \n",
       "...                                                  ...                  ...   \n",
       "19995  Buy WallDesign Small Vinyl Sticker for Rs.730 ...  No rating available   \n",
       "19996  Buy Wallmantra Large Vinyl Stickers Sticker fo...  No rating available   \n",
       "19997  Buy Elite Collection Medium Acrylic Sticker fo...  No rating available   \n",
       "19998  Buy Elite Collection Medium Acrylic Sticker fo...  No rating available   \n",
       "19999  Buy Elite Collection Medium Acrylic Sticker fo...  No rating available   \n",
       "\n",
       "            overall_rating             brand  \\\n",
       "0      No rating available            Alisha   \n",
       "1      No rating available      FabHomeDecor   \n",
       "2      No rating available                AW   \n",
       "3      No rating available            Alisha   \n",
       "4      No rating available            Sicons   \n",
       "...                    ...               ...   \n",
       "19995  No rating available        WallDesign   \n",
       "19996  No rating available        Wallmantra   \n",
       "19997  No rating available  Elite Collection   \n",
       "19998  No rating available  Elite Collection   \n",
       "19999  No rating available  Elite Collection   \n",
       "\n",
       "                                  product_specifications  \n",
       "0      {\"product_specification\"=>[{\"key\"=>\"Number of ...  \n",
       "1      {\"product_specification\"=>[{\"key\"=>\"Installati...  \n",
       "2      {\"product_specification\"=>[{\"key\"=>\"Ideal For\"...  \n",
       "3      {\"product_specification\"=>[{\"key\"=>\"Number of ...  \n",
       "4      {\"product_specification\"=>[{\"key\"=>\"Pet Type\",...  \n",
       "...                                                  ...  \n",
       "19995  {\"product_specification\"=>[{\"key\"=>\"Number of ...  \n",
       "19996  {\"product_specification\"=>[{\"key\"=>\"Number of ...  \n",
       "19997  {\"product_specification\"=>[{\"key\"=>\"Number of ...  \n",
       "19998  {\"product_specification\"=>[{\"key\"=>\"Number of ...  \n",
       "19999  {\"product_specification\"=>[{\"key\"=>\"Number of ...  \n",
       "\n",
       "[20000 rows x 15 columns]"
      ]
     },
     "execution_count": 3,
     "metadata": {},
     "output_type": "execute_result"
    }
   ],
   "source": [
    "df"
   ]
  },
  {
   "cell_type": "code",
   "execution_count": 13,
   "id": "baf1d8fc",
   "metadata": {},
   "outputs": [
    {
     "data": {
      "text/plain": [
       "uniq_id                    0\n",
       "crawl_timestamp            0\n",
       "product_url                0\n",
       "product_name               0\n",
       "product_category_tree      0\n",
       "pid                        0\n",
       "retail_price               0\n",
       "discounted_price           0\n",
       "image                      0\n",
       "is_FK_Advantage_product    0\n",
       "description                0\n",
       "product_rating             0\n",
       "overall_rating             0\n",
       "brand                      0\n",
       "product_specifications     0\n",
       "dtype: int64"
      ]
     },
     "execution_count": 13,
     "metadata": {},
     "output_type": "execute_result"
    }
   ],
   "source": [
    "df.isnull().sum()"
   ]
  },
  {
   "cell_type": "code",
   "execution_count": 12,
   "id": "3dd8dac9",
   "metadata": {},
   "outputs": [],
   "source": [
    "df['discounted_price'].fillna('unkown',inplace=True)\n",
    "df['brand'].fillna('unkown',inplace=True)\n",
    "df['product_specifications'].fillna('unkown',inplace=True)\n",
    "df['description'].fillna('unkown',inplace=True)\n",
    "df['image'].fillna('unkown',inplace=True)\n",
    "df['retail_price'].fillna('unkown',inplace=True)"
   ]
  },
  {
   "cell_type": "code",
   "execution_count": 15,
   "id": "2a101888",
   "metadata": {},
   "outputs": [
    {
     "data": {
      "text/plain": [
       "Index(['uniq_id', 'crawl_timestamp', 'product_url', 'product_name',\n",
       "       'product_category_tree', 'pid', 'retail_price', 'discounted_price',\n",
       "       'image', 'is_FK_Advantage_product', 'description', 'product_rating',\n",
       "       'overall_rating', 'brand', 'product_specifications'],\n",
       "      dtype='object')"
      ]
     },
     "execution_count": 15,
     "metadata": {},
     "output_type": "execute_result"
    }
   ],
   "source": [
    "df.columns"
   ]
  },
  {
   "cell_type": "code",
   "execution_count": 16,
   "id": "9127a857",
   "metadata": {},
   "outputs": [],
   "source": [
    "df['crawl_timestamp']=pd.to_datetime(df['crawl_timestamp'])"
   ]
  },
  {
   "cell_type": "code",
   "execution_count": 17,
   "id": "f5e21405",
   "metadata": {},
   "outputs": [
    {
     "data": {
      "text/plain": [
       "0       2016-03-25 22:59:23+00:00\n",
       "1       2016-03-25 22:59:23+00:00\n",
       "2       2016-03-25 22:59:23+00:00\n",
       "3       2016-03-25 22:59:23+00:00\n",
       "4       2016-03-25 22:59:23+00:00\n",
       "                   ...           \n",
       "19995   2015-12-01 10:15:43+00:00\n",
       "19996   2015-12-01 10:15:43+00:00\n",
       "19997   2015-12-01 10:15:43+00:00\n",
       "19998   2015-12-01 10:15:43+00:00\n",
       "19999   2015-12-01 10:15:43+00:00\n",
       "Name: crawl_timestamp, Length: 20000, dtype: datetime64[ns, UTC]"
      ]
     },
     "execution_count": 17,
     "metadata": {},
     "output_type": "execute_result"
    }
   ],
   "source": [
    "df['crawl_timestamp']"
   ]
  },
  {
   "cell_type": "code",
   "execution_count": 20,
   "id": "d57ee549",
   "metadata": {},
   "outputs": [],
   "source": [
    "df['crawl_year']=df['crawl_timestamp'].apply(lambda x:x.year)\n",
    "df['crawl_month']=df['crawl_timestamp'].apply(lambda x:x.month)\n",
    "df['crawl_Day']=df['crawl_timestamp'].apply(lambda x:x.day)"
   ]
  },
  {
   "cell_type": "code",
   "execution_count": 19,
   "id": "9913e9a2",
   "metadata": {},
   "outputs": [
    {
     "data": {
      "text/plain": [
       "0        2016\n",
       "1        2016\n",
       "2        2016\n",
       "3        2016\n",
       "4        2016\n",
       "         ... \n",
       "19995    2015\n",
       "19996    2015\n",
       "19997    2015\n",
       "19998    2015\n",
       "19999    2015\n",
       "Name: crawl_year, Length: 20000, dtype: int64"
      ]
     },
     "execution_count": 19,
     "metadata": {},
     "output_type": "execute_result"
    }
   ],
   "source": [
    "df['crawl_year']"
   ]
  },
  {
   "cell_type": "code",
   "execution_count": 21,
   "id": "c6ffaa59",
   "metadata": {},
   "outputs": [
    {
     "data": {
      "text/plain": [
       "0         3\n",
       "1         3\n",
       "2         3\n",
       "3         3\n",
       "4         3\n",
       "         ..\n",
       "19995    12\n",
       "19996    12\n",
       "19997    12\n",
       "19998    12\n",
       "19999    12\n",
       "Name: crawl_month, Length: 20000, dtype: int64"
      ]
     },
     "execution_count": 21,
     "metadata": {},
     "output_type": "execute_result"
    }
   ],
   "source": [
    "df['crawl_month']"
   ]
  },
  {
   "cell_type": "code",
   "execution_count": 22,
   "id": "9287fa83",
   "metadata": {},
   "outputs": [
    {
     "data": {
      "text/plain": [
       "0        25\n",
       "1        25\n",
       "2        25\n",
       "3        25\n",
       "4        25\n",
       "         ..\n",
       "19995     1\n",
       "19996     1\n",
       "19997     1\n",
       "19998     1\n",
       "19999     1\n",
       "Name: crawl_Day, Length: 20000, dtype: int64"
      ]
     },
     "execution_count": 22,
     "metadata": {},
     "output_type": "execute_result"
    }
   ],
   "source": [
    "df['crawl_Day']"
   ]
  },
  {
   "cell_type": "code",
   "execution_count": 23,
   "id": "69e3a629",
   "metadata": {},
   "outputs": [],
   "source": [
    "df['main category']=df['product_category_tree'].apply(lambda x:x.split('>>')[0][2:len(x.split('>>')[0])-1])"
   ]
  },
  {
   "cell_type": "code",
   "execution_count": 27,
   "id": "299a818b",
   "metadata": {},
   "outputs": [],
   "source": [
    "def secondary_category_value(value):\n",
    "    try:\n",
    "        return value.split('>>')[1][1:len(value.split('>>')[1])-1]\n",
    "    except IndexError:\n",
    "        return \"None\"\n",
    "\n",
    "def tertiary_category_value(value):\n",
    "    try:\n",
    "        return value.split('>>')[2][2:len(value.split('>>')[2])-1]\n",
    "    except IndexError:\n",
    "        return \"None\"\n",
    "    \n",
    "def quaternary_category_value(value):\n",
    "    try:\n",
    "        return value.split('>>')[3][3:len(value.split('>>')[3])-1]\n",
    "    except IndexError:\n",
    "        return \"None\"    \n",
    "        "
   ]
  },
  {
   "cell_type": "code",
   "execution_count": 29,
   "id": "5d5351b9",
   "metadata": {},
   "outputs": [],
   "source": [
    "df['secondary']=df['product_category_tree'].apply(secondary_category_value)\n",
    "df['tertiary']=df['product_category_tree'].apply(tertiary_category_value)\n",
    "df['quaternary']=df['product_category_tree'].apply(quaternary_category_value)"
   ]
  },
  {
   "cell_type": "code",
   "execution_count": 30,
   "id": "65ba1dfc",
   "metadata": {},
   "outputs": [
    {
     "data": {
      "text/plain": [
       "Index(['uniq_id', 'crawl_timestamp', 'product_url', 'product_name',\n",
       "       'product_category_tree', 'pid', 'retail_price', 'discounted_price',\n",
       "       'image', 'is_FK_Advantage_product', 'description', 'product_rating',\n",
       "       'overall_rating', 'brand', 'product_specifications', 'crawl_year',\n",
       "       'crawl_month', 'crawl_Day', 'main category', 'secondary', 'tertiary',\n",
       "       'quaternary'],\n",
       "      dtype='object')"
      ]
     },
     "execution_count": 30,
     "metadata": {},
     "output_type": "execute_result"
    }
   ],
   "source": [
    "df.columns"
   ]
  },
  {
   "cell_type": "code",
   "execution_count": 31,
   "id": "88f94b41",
   "metadata": {},
   "outputs": [],
   "source": [
    "df.to_csv('flipcart data analysis.CSV',header=True)"
   ]
  },
  {
   "cell_type": "code",
   "execution_count": 33,
   "id": "c8c3d9df",
   "metadata": {},
   "outputs": [
    {
     "ename": "ValueError",
     "evalue": "Excel does not support datetimes with timezones. Please ensure that datetimes are timezone unaware before writing to Excel.",
     "output_type": "error",
     "traceback": [
      "\u001b[1;31m---------------------------------------------------------------------------\u001b[0m",
      "\u001b[1;31mValueError\u001b[0m                                Traceback (most recent call last)",
      "Input \u001b[1;32mIn [33]\u001b[0m, in \u001b[0;36m<cell line: 1>\u001b[1;34m()\u001b[0m\n\u001b[1;32m----> 1\u001b[0m \u001b[43mdf\u001b[49m\u001b[38;5;241;43m.\u001b[39;49m\u001b[43mto_excel\u001b[49m\u001b[43m(\u001b[49m\u001b[38;5;124;43m'\u001b[39;49m\u001b[38;5;124;43mflipcart data analysis1.xlsx\u001b[39;49m\u001b[38;5;124;43m'\u001b[39;49m\u001b[43m,\u001b[49m\u001b[43mheader\u001b[49m\u001b[38;5;241;43m=\u001b[39;49m\u001b[38;5;28;43;01mTrue\u001b[39;49;00m\u001b[43m)\u001b[49m\n",
      "File \u001b[1;32m~\\anaconda3\\lib\\site-packages\\pandas\\core\\generic.py:2345\u001b[0m, in \u001b[0;36mNDFrame.to_excel\u001b[1;34m(self, excel_writer, sheet_name, na_rep, float_format, columns, header, index, index_label, startrow, startcol, engine, merge_cells, encoding, inf_rep, verbose, freeze_panes, storage_options)\u001b[0m\n\u001b[0;32m   2332\u001b[0m \u001b[38;5;28;01mfrom\u001b[39;00m \u001b[38;5;21;01mpandas\u001b[39;00m\u001b[38;5;21;01m.\u001b[39;00m\u001b[38;5;21;01mio\u001b[39;00m\u001b[38;5;21;01m.\u001b[39;00m\u001b[38;5;21;01mformats\u001b[39;00m\u001b[38;5;21;01m.\u001b[39;00m\u001b[38;5;21;01mexcel\u001b[39;00m \u001b[38;5;28;01mimport\u001b[39;00m ExcelFormatter\n\u001b[0;32m   2334\u001b[0m formatter \u001b[38;5;241m=\u001b[39m ExcelFormatter(\n\u001b[0;32m   2335\u001b[0m     df,\n\u001b[0;32m   2336\u001b[0m     na_rep\u001b[38;5;241m=\u001b[39mna_rep,\n\u001b[1;32m   (...)\u001b[0m\n\u001b[0;32m   2343\u001b[0m     inf_rep\u001b[38;5;241m=\u001b[39minf_rep,\n\u001b[0;32m   2344\u001b[0m )\n\u001b[1;32m-> 2345\u001b[0m \u001b[43mformatter\u001b[49m\u001b[38;5;241;43m.\u001b[39;49m\u001b[43mwrite\u001b[49m\u001b[43m(\u001b[49m\n\u001b[0;32m   2346\u001b[0m \u001b[43m    \u001b[49m\u001b[43mexcel_writer\u001b[49m\u001b[43m,\u001b[49m\n\u001b[0;32m   2347\u001b[0m \u001b[43m    \u001b[49m\u001b[43msheet_name\u001b[49m\u001b[38;5;241;43m=\u001b[39;49m\u001b[43msheet_name\u001b[49m\u001b[43m,\u001b[49m\n\u001b[0;32m   2348\u001b[0m \u001b[43m    \u001b[49m\u001b[43mstartrow\u001b[49m\u001b[38;5;241;43m=\u001b[39;49m\u001b[43mstartrow\u001b[49m\u001b[43m,\u001b[49m\n\u001b[0;32m   2349\u001b[0m \u001b[43m    \u001b[49m\u001b[43mstartcol\u001b[49m\u001b[38;5;241;43m=\u001b[39;49m\u001b[43mstartcol\u001b[49m\u001b[43m,\u001b[49m\n\u001b[0;32m   2350\u001b[0m \u001b[43m    \u001b[49m\u001b[43mfreeze_panes\u001b[49m\u001b[38;5;241;43m=\u001b[39;49m\u001b[43mfreeze_panes\u001b[49m\u001b[43m,\u001b[49m\n\u001b[0;32m   2351\u001b[0m \u001b[43m    \u001b[49m\u001b[43mengine\u001b[49m\u001b[38;5;241;43m=\u001b[39;49m\u001b[43mengine\u001b[49m\u001b[43m,\u001b[49m\n\u001b[0;32m   2352\u001b[0m \u001b[43m    \u001b[49m\u001b[43mstorage_options\u001b[49m\u001b[38;5;241;43m=\u001b[39;49m\u001b[43mstorage_options\u001b[49m\u001b[43m,\u001b[49m\n\u001b[0;32m   2353\u001b[0m \u001b[43m\u001b[49m\u001b[43m)\u001b[49m\n",
      "File \u001b[1;32m~\\anaconda3\\lib\\site-packages\\pandas\\io\\formats\\excel.py:894\u001b[0m, in \u001b[0;36mExcelFormatter.write\u001b[1;34m(self, writer, sheet_name, startrow, startcol, freeze_panes, engine, storage_options)\u001b[0m\n\u001b[0;32m    891\u001b[0m     need_save \u001b[38;5;241m=\u001b[39m \u001b[38;5;28;01mTrue\u001b[39;00m\n\u001b[0;32m    893\u001b[0m \u001b[38;5;28;01mtry\u001b[39;00m:\n\u001b[1;32m--> 894\u001b[0m     \u001b[43mwriter\u001b[49m\u001b[38;5;241;43m.\u001b[39;49m\u001b[43mwrite_cells\u001b[49m\u001b[43m(\u001b[49m\n\u001b[0;32m    895\u001b[0m \u001b[43m        \u001b[49m\u001b[43mformatted_cells\u001b[49m\u001b[43m,\u001b[49m\n\u001b[0;32m    896\u001b[0m \u001b[43m        \u001b[49m\u001b[43msheet_name\u001b[49m\u001b[43m,\u001b[49m\n\u001b[0;32m    897\u001b[0m \u001b[43m        \u001b[49m\u001b[43mstartrow\u001b[49m\u001b[38;5;241;43m=\u001b[39;49m\u001b[43mstartrow\u001b[49m\u001b[43m,\u001b[49m\n\u001b[0;32m    898\u001b[0m \u001b[43m        \u001b[49m\u001b[43mstartcol\u001b[49m\u001b[38;5;241;43m=\u001b[39;49m\u001b[43mstartcol\u001b[49m\u001b[43m,\u001b[49m\n\u001b[0;32m    899\u001b[0m \u001b[43m        \u001b[49m\u001b[43mfreeze_panes\u001b[49m\u001b[38;5;241;43m=\u001b[39;49m\u001b[43mfreeze_panes\u001b[49m\u001b[43m,\u001b[49m\n\u001b[0;32m    900\u001b[0m \u001b[43m    \u001b[49m\u001b[43m)\u001b[49m\n\u001b[0;32m    901\u001b[0m \u001b[38;5;28;01mfinally\u001b[39;00m:\n\u001b[0;32m    902\u001b[0m     \u001b[38;5;66;03m# make sure to close opened file handles\u001b[39;00m\n\u001b[0;32m    903\u001b[0m     \u001b[38;5;28;01mif\u001b[39;00m need_save:\n",
      "File \u001b[1;32m~\\anaconda3\\lib\\site-packages\\pandas\\io\\excel\\_xlsxwriter.py:227\u001b[0m, in \u001b[0;36mXlsxWriter.write_cells\u001b[1;34m(self, cells, sheet_name, startrow, startcol, freeze_panes)\u001b[0m\n\u001b[0;32m    224\u001b[0m \u001b[38;5;28;01mif\u001b[39;00m validate_freeze_panes(freeze_panes):\n\u001b[0;32m    225\u001b[0m     wks\u001b[38;5;241m.\u001b[39mfreeze_panes(\u001b[38;5;241m*\u001b[39m(freeze_panes))\n\u001b[1;32m--> 227\u001b[0m \u001b[38;5;28;01mfor\u001b[39;00m cell \u001b[38;5;129;01min\u001b[39;00m cells:\n\u001b[0;32m    228\u001b[0m     val, fmt \u001b[38;5;241m=\u001b[39m \u001b[38;5;28mself\u001b[39m\u001b[38;5;241m.\u001b[39m_value_with_fmt(cell\u001b[38;5;241m.\u001b[39mval)\n\u001b[0;32m    230\u001b[0m     stylekey \u001b[38;5;241m=\u001b[39m json\u001b[38;5;241m.\u001b[39mdumps(cell\u001b[38;5;241m.\u001b[39mstyle)\n",
      "File \u001b[1;32m~\\anaconda3\\lib\\site-packages\\pandas\\io\\formats\\excel.py:832\u001b[0m, in \u001b[0;36mExcelFormatter.get_formatted_cells\u001b[1;34m(self)\u001b[0m\n\u001b[0;32m    830\u001b[0m \u001b[38;5;28;01mdef\u001b[39;00m \u001b[38;5;21mget_formatted_cells\u001b[39m(\u001b[38;5;28mself\u001b[39m) \u001b[38;5;241m-\u001b[39m\u001b[38;5;241m>\u001b[39m Iterable[ExcelCell]:\n\u001b[0;32m    831\u001b[0m     \u001b[38;5;28;01mfor\u001b[39;00m cell \u001b[38;5;129;01min\u001b[39;00m itertools\u001b[38;5;241m.\u001b[39mchain(\u001b[38;5;28mself\u001b[39m\u001b[38;5;241m.\u001b[39m_format_header(), \u001b[38;5;28mself\u001b[39m\u001b[38;5;241m.\u001b[39m_format_body()):\n\u001b[1;32m--> 832\u001b[0m         cell\u001b[38;5;241m.\u001b[39mval \u001b[38;5;241m=\u001b[39m \u001b[38;5;28;43mself\u001b[39;49m\u001b[38;5;241;43m.\u001b[39;49m\u001b[43m_format_value\u001b[49m\u001b[43m(\u001b[49m\u001b[43mcell\u001b[49m\u001b[38;5;241;43m.\u001b[39;49m\u001b[43mval\u001b[49m\u001b[43m)\u001b[49m\n\u001b[0;32m    833\u001b[0m         \u001b[38;5;28;01myield\u001b[39;00m cell\n",
      "File \u001b[1;32m~\\anaconda3\\lib\\site-packages\\pandas\\io\\formats\\excel.py:547\u001b[0m, in \u001b[0;36mExcelFormatter._format_value\u001b[1;34m(self, val)\u001b[0m\n\u001b[0;32m    545\u001b[0m         val \u001b[38;5;241m=\u001b[39m \u001b[38;5;28mfloat\u001b[39m(\u001b[38;5;28mself\u001b[39m\u001b[38;5;241m.\u001b[39mfloat_format \u001b[38;5;241m%\u001b[39m val)\n\u001b[0;32m    546\u001b[0m \u001b[38;5;28;01mif\u001b[39;00m \u001b[38;5;28mgetattr\u001b[39m(val, \u001b[38;5;124m\"\u001b[39m\u001b[38;5;124mtzinfo\u001b[39m\u001b[38;5;124m\"\u001b[39m, \u001b[38;5;28;01mNone\u001b[39;00m) \u001b[38;5;129;01mis\u001b[39;00m \u001b[38;5;129;01mnot\u001b[39;00m \u001b[38;5;28;01mNone\u001b[39;00m:\n\u001b[1;32m--> 547\u001b[0m     \u001b[38;5;28;01mraise\u001b[39;00m \u001b[38;5;167;01mValueError\u001b[39;00m(\n\u001b[0;32m    548\u001b[0m         \u001b[38;5;124m\"\u001b[39m\u001b[38;5;124mExcel does not support datetimes with \u001b[39m\u001b[38;5;124m\"\u001b[39m\n\u001b[0;32m    549\u001b[0m         \u001b[38;5;124m\"\u001b[39m\u001b[38;5;124mtimezones. Please ensure that datetimes \u001b[39m\u001b[38;5;124m\"\u001b[39m\n\u001b[0;32m    550\u001b[0m         \u001b[38;5;124m\"\u001b[39m\u001b[38;5;124mare timezone unaware before writing to Excel.\u001b[39m\u001b[38;5;124m\"\u001b[39m\n\u001b[0;32m    551\u001b[0m     )\n\u001b[0;32m    552\u001b[0m \u001b[38;5;28;01mreturn\u001b[39;00m val\n",
      "\u001b[1;31mValueError\u001b[0m: Excel does not support datetimes with timezones. Please ensure that datetimes are timezone unaware before writing to Excel."
     ]
    }
   ],
   "source": [
    "df.to_excel('flipcart data analysis1.xlsx',header=True)\n"
   ]
  },
  {
   "cell_type": "code",
   "execution_count": 34,
   "id": "1654951b",
   "metadata": {},
   "outputs": [
    {
     "name": "stdout",
     "output_type": "stream",
     "text": [
      "<class 'pandas.core.frame.DataFrame'>\n",
      "RangeIndex: 20000 entries, 0 to 19999\n",
      "Data columns (total 22 columns):\n",
      " #   Column                   Non-Null Count  Dtype              \n",
      "---  ------                   --------------  -----              \n",
      " 0   uniq_id                  20000 non-null  object             \n",
      " 1   crawl_timestamp          20000 non-null  datetime64[ns, UTC]\n",
      " 2   product_url              20000 non-null  object             \n",
      " 3   product_name             20000 non-null  object             \n",
      " 4   product_category_tree    20000 non-null  object             \n",
      " 5   pid                      20000 non-null  object             \n",
      " 6   retail_price             20000 non-null  object             \n",
      " 7   discounted_price         20000 non-null  object             \n",
      " 8   image                    20000 non-null  object             \n",
      " 9   is_FK_Advantage_product  20000 non-null  bool               \n",
      " 10  description              20000 non-null  object             \n",
      " 11  product_rating           20000 non-null  object             \n",
      " 12  overall_rating           20000 non-null  object             \n",
      " 13  brand                    20000 non-null  object             \n",
      " 14  product_specifications   20000 non-null  object             \n",
      " 15  crawl_year               20000 non-null  int64              \n",
      " 16  crawl_month              20000 non-null  int64              \n",
      " 17  crawl_Day                20000 non-null  int64              \n",
      " 18  main category            20000 non-null  object             \n",
      " 19  secondary                20000 non-null  object             \n",
      " 20  tertiary                 20000 non-null  object             \n",
      " 21  quaternary               20000 non-null  object             \n",
      "dtypes: bool(1), datetime64[ns, UTC](1), int64(3), object(17)\n",
      "memory usage: 3.2+ MB\n"
     ]
    }
   ],
   "source": [
    "df.info()"
   ]
  },
  {
   "cell_type": "code",
   "execution_count": 35,
   "id": "3d8f3516",
   "metadata": {},
   "outputs": [],
   "source": [
    "df1=df.drop(columns='crawl_timestamp')"
   ]
  },
  {
   "cell_type": "code",
   "execution_count": 36,
   "id": "6c4a9fe8",
   "metadata": {},
   "outputs": [
    {
     "name": "stdout",
     "output_type": "stream",
     "text": [
      "<class 'pandas.core.frame.DataFrame'>\n",
      "RangeIndex: 20000 entries, 0 to 19999\n",
      "Data columns (total 21 columns):\n",
      " #   Column                   Non-Null Count  Dtype \n",
      "---  ------                   --------------  ----- \n",
      " 0   uniq_id                  20000 non-null  object\n",
      " 1   product_url              20000 non-null  object\n",
      " 2   product_name             20000 non-null  object\n",
      " 3   product_category_tree    20000 non-null  object\n",
      " 4   pid                      20000 non-null  object\n",
      " 5   retail_price             20000 non-null  object\n",
      " 6   discounted_price         20000 non-null  object\n",
      " 7   image                    20000 non-null  object\n",
      " 8   is_FK_Advantage_product  20000 non-null  bool  \n",
      " 9   description              20000 non-null  object\n",
      " 10  product_rating           20000 non-null  object\n",
      " 11  overall_rating           20000 non-null  object\n",
      " 12  brand                    20000 non-null  object\n",
      " 13  product_specifications   20000 non-null  object\n",
      " 14  crawl_year               20000 non-null  int64 \n",
      " 15  crawl_month              20000 non-null  int64 \n",
      " 16  crawl_Day                20000 non-null  int64 \n",
      " 17  main category            20000 non-null  object\n",
      " 18  secondary                20000 non-null  object\n",
      " 19  tertiary                 20000 non-null  object\n",
      " 20  quaternary               20000 non-null  object\n",
      "dtypes: bool(1), int64(3), object(17)\n",
      "memory usage: 3.1+ MB\n"
     ]
    }
   ],
   "source": [
    "df1.info()"
   ]
  },
  {
   "cell_type": "code",
   "execution_count": 37,
   "id": "b4eaef2b",
   "metadata": {},
   "outputs": [],
   "source": [
    "df1.to_excel('flipcart data analysis1.xlsx',header=True)"
   ]
  },
  {
   "cell_type": "code",
   "execution_count": null,
   "id": "eb294cdd",
   "metadata": {},
   "outputs": [],
   "source": []
  }
 ],
 "metadata": {
  "kernelspec": {
   "display_name": "Python 3 (ipykernel)",
   "language": "python",
   "name": "python3"
  },
  "language_info": {
   "codemirror_mode": {
    "name": "ipython",
    "version": 3
   },
   "file_extension": ".py",
   "mimetype": "text/x-python",
   "name": "python",
   "nbconvert_exporter": "python",
   "pygments_lexer": "ipython3",
   "version": "3.9.12"
  }
 },
 "nbformat": 4,
 "nbformat_minor": 5
}
